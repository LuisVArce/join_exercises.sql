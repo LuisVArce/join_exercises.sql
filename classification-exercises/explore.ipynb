{
 "cells": [
  {
   "cell_type": "markdown",
   "metadata": {},
   "source": [
    "# Classification:  Data Exploration\n",
    "\n",
    "> Exploratory Data Analysis refers to the critical process of performing initial investigations on data so as to discover patterns, to spot anomalies, to test hypotheses and to check assumptions with the help of summary statistics and graphical representations.\n",
    ">\n",
    "> [Prasad Patil, Novice Data Science Storyteller, Mar 23](https://towardsdatascience.com/exploratory-data-analysis-8fc1cb20fd15)\n",
    "\n",
    "The goals of exploration are to understand the signals in the data, their strength, the features that drive the outcome, and other features to construct through questions and hypotheses, in order to walk away with modeling strategies (feature selection, algorithm selection, evaluation methods, e.g.) and actionable insight.\n",
    "\n",
    "In general, we'll be exploring our target variable against the independent, or predictor, variables."
   ]
  },
  {
   "cell_type": "code",
   "execution_count": null,
   "metadata": {},
   "outputs": [],
   "source": [
    "import warnings\n",
    "warnings.filterwarnings(\"ignore\")\n",
    "\n",
    "import pandas as pd\n",
    "import numpy as np\n",
    "import matplotlib.pyplot as plt\n",
    "import seaborn as sns\n",
    "\n",
    "from acquire import get_titanic_data\n",
    "from prepare import train_validate_test_split\n",
    "\n",
    "df = get_titanic_data()\n",
    "df = df.drop(columns='deck')\n",
    "df = df[~ df.age.isna()]\n",
    "df = df[~ df.embarked.isna()]\n",
    "\n",
    "train, validate, test = train_validate_test_split(df)"
   ]
  },
  {
   "cell_type": "code",
   "execution_count": null,
   "metadata": {},
   "outputs": [],
   "source": [
    "# validate and test to be out-of-sample\n",
    "\n",
    "train.shape, validate.shape, test.shape"
   ]
  },
  {
   "cell_type": "code",
   "execution_count": null,
   "metadata": {},
   "outputs": [],
   "source": [
    "# in-sample means the data we look at\n",
    "train.head()"
   ]
  },
  {
   "cell_type": "markdown",
   "metadata": {},
   "source": [
    "## Explore the Target\n",
    "- What is the thing we're trying to predict?"
   ]
  },
  {
   "cell_type": "code",
   "execution_count": null,
   "metadata": {},
   "outputs": [],
   "source": [
    "train.survived.value_counts()"
   ]
  },
  {
   "cell_type": "code",
   "execution_count": null,
   "metadata": {},
   "outputs": [],
   "source": [
    "train.survived.value_counts().plot.bar()\n",
    "plt.xlabel('Survived')"
   ]
  },
  {
   "cell_type": "code",
   "execution_count": null,
   "metadata": {},
   "outputs": [],
   "source": [
    "train.survived.hist()"
   ]
  },
  {
   "cell_type": "code",
   "execution_count": null,
   "metadata": {},
   "outputs": [],
   "source": [
    "train.survived.mean()"
   ]
  },
  {
   "cell_type": "code",
   "execution_count": null,
   "metadata": {},
   "outputs": [],
   "source": [
    "train.survived.value_counts().sort_index().plot.bar()\n",
    "survival_rate = train.survived.mean()\n",
    "plt.title(f\"Overall survival rate: {survival_rate:.2%}\")\n",
    "plt.xlabel('Survived')"
   ]
  },
  {
   "cell_type": "code",
   "execution_count": null,
   "metadata": {},
   "outputs": [],
   "source": [
    "train.fare.hist()"
   ]
  },
  {
   "cell_type": "code",
   "execution_count": null,
   "metadata": {},
   "outputs": [],
   "source": [
    "train.fare.value_counts()"
   ]
  },
  {
   "cell_type": "code",
   "execution_count": null,
   "metadata": {},
   "outputs": [],
   "source": [
    "train.age.hist()"
   ]
  },
  {
   "cell_type": "markdown",
   "metadata": {},
   "source": [
    "`survived` can be treated as either a categorical variable or a number. For example, we are treating survived as a categorical variable when we look at the value counts above. We could also treat survived as a categorical variable and explore other features through the `survived` category.\n",
    "\n",
    "Treating `survived` as a number lets us take the average, which we can interpret as the overall survival rate."
   ]
  },
  {
   "cell_type": "markdown",
   "metadata": {},
   "source": [
    "## Barplots\n",
    "\n",
    "Here we'll treat `survived` as a number and explore its interactions with other categorical features. For each other categorical feature, we will calculate the survival rate among its subgroups and visualize them with a barplot."
   ]
  },
  {
   "cell_type": "code",
   "execution_count": null,
   "metadata": {},
   "outputs": [],
   "source": [
    "features = ['sex', 'class', 'alone']"
   ]
  },
  {
   "cell_type": "code",
   "execution_count": null,
   "metadata": {},
   "outputs": [],
   "source": [
    "enumerate(features)"
   ]
  },
  {
   "cell_type": "code",
   "execution_count": null,
   "metadata": {},
   "outputs": [],
   "source": [
    "list(enumerate(features))"
   ]
  },
  {
   "cell_type": "code",
   "execution_count": null,
   "metadata": {},
   "outputs": [],
   "source": [
    "survival_rate = train.survived.mean()\n",
    "_, ax = plt.subplots(nrows=1, ncols=3, figsize=(16, 6), sharey=True)\n",
    "for i, feature in enumerate(features):\n",
    "    sns.barplot(feature, 'survived', data=train, ax=ax[i], alpha=0.5)\n",
    "    ax[i].set_xlabel('')\n",
    "    ax[i].set_ylabel('Survival Rate')\n",
    "    ax[i].set_title(feature)\n",
    "    ax[i].axhline(survival_rate, ls='--', color='grey')"
   ]
  },
  {
   "cell_type": "markdown",
   "metadata": {},
   "source": [
    "Here we add a horizontal dashed line at the overall survival rate in order to be able to quickly visually compare the subgroup survival rates against the overall rate in addition to comparing to the survival rate for other subgroups.\n",
    "\n",
    "The black lines on the top of each bar give us the 95% confidence interval for our estimate of the average for each subgroup."
   ]
  },
  {
   "cell_type": "code",
   "execution_count": null,
   "metadata": {},
   "outputs": [],
   "source": [
    "# hist is a histogram plot in seaborn\n",
    "sns.histplot(x=\"class\", data=train, hue=\"survived\")"
   ]
  },
  {
   "cell_type": "code",
   "execution_count": null,
   "metadata": {},
   "outputs": [],
   "source": [
    "# countplot\n",
    "sns.countplot(x=\"class\", data=train, hue=\"survived\")"
   ]
  },
  {
   "cell_type": "markdown",
   "metadata": {},
   "source": [
    "### Continuous vs. Continuous\n",
    "- Use a .scatterplot\n",
    "- Try a .regplot"
   ]
  },
  {
   "cell_type": "code",
   "execution_count": null,
   "metadata": {},
   "outputs": [],
   "source": [
    "# Hue can hold a categorical or a continuous (recommend for categorical)\n",
    "sns.scatterplot(x=\"age\", y=\"fare\", hue=\"survived\", data=train)"
   ]
  },
  {
   "cell_type": "code",
   "execution_count": null,
   "metadata": {},
   "outputs": [],
   "source": [
    "# col argument is a discrete variable feature in our dataset\n",
    "sns.relplot(x=\"age\", y=\"fare\", col=\"survived\", data=train)"
   ]
  },
  {
   "cell_type": "markdown",
   "metadata": {},
   "source": [
    "### Swarmplot: Discrete x Continuous\n",
    "\n",
    "A swarmplot can be used to plot a numeric variable with a discrete or categorical variable. Here we are looking at the relationship between class and age and adding the additional dimension of whether or not the passenger survived."
   ]
  },
  {
   "cell_type": "code",
   "execution_count": null,
   "metadata": {},
   "outputs": [],
   "source": [
    "sns.swarmplot(x=\"pclass\", y=\"age\", data=train, hue=\"survived\", palette=\"Set2\")\n",
    "plt.legend()"
   ]
  },
  {
   "cell_type": "code",
   "execution_count": null,
   "metadata": {},
   "outputs": [],
   "source": [
    "sns.swarmplot(x=\"sex\", y=\"fare\", data=train, hue=\"survived\", palette=\"Set2\")\n",
    "plt.legend()"
   ]
  },
  {
   "cell_type": "code",
   "execution_count": null,
   "metadata": {},
   "outputs": [],
   "source": [
    "sns.swarmplot(x=\"fare\", y=\"sex\", data=train, hue=\"survived\", palette=\"Set2\")\n",
    "plt.legend()"
   ]
  },
  {
   "cell_type": "code",
   "execution_count": null,
   "metadata": {},
   "outputs": [],
   "source": [
    "# Using a Catplot\n",
    "sns.catplot(x=\"pclass\", y=\"age\", data=train, hue=\"survived\")"
   ]
  },
  {
   "cell_type": "code",
   "execution_count": null,
   "metadata": {},
   "outputs": [],
   "source": [
    "# Catplot with kind=\"count\"\n",
    "sns.catplot(x=\"survived\", col=\"pclass\", data=train, kind=\"count\")"
   ]
  },
  {
   "cell_type": "code",
   "execution_count": null,
   "metadata": {},
   "outputs": [],
   "source": [
    "# Catplot with kind=\"count\"\n",
    "sns.catplot(x=\"sex\", y=\"fare\", data=train, kind=\"violin\")"
   ]
  },
  {
   "cell_type": "code",
   "execution_count": null,
   "metadata": {},
   "outputs": [],
   "source": [
    "sns.dogplot()"
   ]
  },
  {
   "cell_type": "markdown",
   "metadata": {},
   "source": [
    "### Violinplot: Discrete x Continuous\n"
   ]
  },
  {
   "cell_type": "code",
   "execution_count": null,
   "metadata": {},
   "outputs": [],
   "source": [
    "features = [\"class\", \"embarked\", \"alone\"]\n",
    "_, ax = plt.subplots(nrows=1, ncols=3, figsize=(12, 6))\n",
    "\n",
    "for i, feature in enumerate(features):\n",
    "    sns.violinplot(\n",
    "        feature,\n",
    "        \"age\",\n",
    "        hue=\"survived\",\n",
    "        data=train,\n",
    "        split=True,\n",
    "        ax=ax[i],\n",
    "        palette=[\"blue\", \"orange\"],\n",
    "    )"
   ]
  },
  {
   "cell_type": "code",
   "execution_count": null,
   "metadata": {},
   "outputs": [],
   "source": [
    "train.head()"
   ]
  },
  {
   "cell_type": "code",
   "execution_count": null,
   "metadata": {},
   "outputs": [],
   "source": [
    "train.fare.value_counts()"
   ]
  },
  {
   "cell_type": "markdown",
   "metadata": {},
   "source": [
    "### Crosstab: Discrete x Discrete\n",
    "\n",
    "Matrix of counts or probabilities"
   ]
  },
  {
   "cell_type": "code",
   "execution_count": null,
   "metadata": {},
   "outputs": [],
   "source": [
    "pd.crosstab(train.pclass, train.survived, margins=True)"
   ]
  },
  {
   "cell_type": "code",
   "execution_count": null,
   "metadata": {},
   "outputs": [],
   "source": [
    "pd.crosstab(train.pclass, train.survived, margins=True, normalize=True)"
   ]
  },
  {
   "cell_type": "code",
   "execution_count": null,
   "metadata": {},
   "outputs": [],
   "source": [
    "crosstab = pd.crosstab(train.pclass, train.survived, margins=True, normalize=True)\n",
    "sns.heatmap(crosstab)"
   ]
  },
  {
   "cell_type": "markdown",
   "metadata": {},
   "source": [
    "There definitely appears to be a difference in the survival rate of those in 1st class vs. 3rd class. "
   ]
  },
  {
   "cell_type": "markdown",
   "metadata": {},
   "source": [
    "## Continuous x Continuous"
   ]
  },
  {
   "cell_type": "code",
   "execution_count": null,
   "metadata": {},
   "outputs": [],
   "source": [
    "sns.relplot(x=\"fare\", y=\"age\", hue=\"survived\", data=train, height=6, aspect=1.6)\n",
    "plt.xlim(0, 175)"
   ]
  },
  {
   "cell_type": "code",
   "execution_count": null,
   "metadata": {},
   "outputs": [],
   "source": [
    "sns.lmplot(x=\"fare\", y=\"age\", hue=\"survived\", data=train)"
   ]
  },
  {
   "cell_type": "markdown",
   "metadata": {},
   "source": [
    "### Melting Multiple Continuous Variables\n",
    "\n",
    "Melting lets us compare multiple continuous variables that have the same or similarly scaled units on the same visualization."
   ]
  },
  {
   "cell_type": "code",
   "execution_count": null,
   "metadata": {},
   "outputs": [],
   "source": [
    "sns.set(style=\"whitegrid\", palette=\"muted\")\n",
    "\n",
    "# Melt the dataset to \"long-form\" representation\n",
    "melt = train[['survived', 'age', 'fare']].melt(id_vars=\"survived\", var_name=\"measurement\")\n",
    "melt"
   ]
  },
  {
   "cell_type": "code",
   "execution_count": null,
   "metadata": {},
   "outputs": [],
   "source": [
    "plt.figure(figsize=(8,6))\n",
    "p = sns.swarmplot(\n",
    "    x=\"measurement\",\n",
    "    y=\"value\",\n",
    "    hue=\"survived\",\n",
    "    data=melt,\n",
    ")\n",
    "\n",
    "# setting to logscale \n",
    "p.set(yscale=\"log\", xlabel='')\n",
    "plt.show()"
   ]
  },
  {
   "cell_type": "code",
   "execution_count": null,
   "metadata": {},
   "outputs": [],
   "source": [
    "#\n",
    "from pydataset import data\n",
    "tips = data(\"tips\")\n",
    "tips.head()"
   ]
  },
  {
   "cell_type": "code",
   "execution_count": null,
   "metadata": {},
   "outputs": [],
   "source": [
    "melt = tips[['sex', 'tip', 'total_bill']].melt(id_vars=\"sex\", var_name=\"measurement\")\n",
    "\n",
    "\n",
    "plt.figure(figsize=(8,6))\n",
    "p = sns.swarmplot(\n",
    "    x=\"measurement\",\n",
    "    y=\"value\",\n",
    "    hue=\"sex\",\n",
    "    data=melt,\n",
    ")\n",
    "\n",
    "# setting to logscale \n",
    "plt.show()"
   ]
  },
  {
   "cell_type": "markdown",
   "metadata": {},
   "source": [
    "## Statistical Testing\n",
    "\n",
    "As an example of statistical testing, we'll take a look at the relationship between survival and age. For all of our statistical testing:\n",
    "\n",
    "1. Experiments should be **reproducible**: If someone runs through the experiment with the same data, they should get the same results.  If someone runs through the experiment with another sample of the data, they should arrive at the same conclusion.  \n",
    "2. Experiments should be **documented** succintly and focusing on the essential aspects of the tasks involved.\n",
    "\n",
    "Experiment: Compare two groups: Is the age of survivors significantly different from that of the non-survivors?\n",
    "\n",
    "- $H_{0}$: the difference in age between subset A, survivors, and subset B, non-survivors, is insubstantial (basically 0).  \n",
    "- $H_{a}$: the difference between subset A, survivors, and subset B, non-survivors is substantial\n",
    "- Test if the observations with survivors (subset A) has significantly different ages than that of non-survivors (subset B).  \n",
    "- If there is a difference, then `Age` is a good choice to keep as a feature.  \n",
    "- We can use a t-test here, as `Age` is somewhat normally distributed.     "
   ]
  },
  {
   "cell_type": "code",
   "execution_count": null,
   "metadata": {},
   "outputs": [],
   "source": [
    "from scipy import stats\n",
    "\n",
    "stats.ttest_ind(\n",
    "    train[train.survived == 1].age.dropna(),\n",
    "    train[train.survived == 0].age.dropna(),\n",
    ")"
   ]
  },
  {
   "cell_type": "markdown",
   "metadata": {},
   "source": [
    "## Take a moment to list out the categorical variable\n",
    "- If we're doing classification, our target variable will be *categorical*\n",
    "- List out our continuous variables\n",
    "- If we're comparing continuous to continuous, we use .correlation \n",
    "    - Example: total_bill to tip\n",
    "    - Example: fare to age\n",
    "- If we're comparing categorical to categorical, we're chi^2\n",
    "    - Example: pclass to sex\n",
    "    - Example: day to smoker (in the tips dataset)\n",
    "- If we're comparing continous among different categories, t-test\n",
    "    - Example: comparing total_bills between smokers and nonsmokers\n",
    "    - Example: comparing fare between pclass on Titanic\n",
    "    - Example: comparing age between pclass on Titanic dataset"
   ]
  },
  {
   "cell_type": "markdown",
   "metadata": {},
   "source": [
    "Based on our p-value, we would fail to reject the null hypothesis that age is not significantly different for passengers that survived and those that didn't."
   ]
  }
 ],
 "metadata": {
  "kernelspec": {
   "display_name": "Python 3",
   "language": "python",
   "name": "python3"
  },
  "language_info": {
   "codemirror_mode": {
    "name": "ipython",
    "version": 3
   },
   "file_extension": ".py",
   "mimetype": "text/x-python",
   "name": "python",
   "nbconvert_exporter": "python",
   "pygments_lexer": "ipython3",
   "version": "3.8.8"
  },
  "toc": {
   "base_numbering": 1,
   "nav_menu": {},
   "number_sections": false,
   "sideBar": false,
   "skip_h1_title": false,
   "title_cell": "Table of Contents",
   "title_sidebar": "Contents",
   "toc_cell": false,
   "toc_position": {},
   "toc_section_display": false,
   "toc_window_display": false
  }
 },
 "nbformat": 4,
 "nbformat_minor": 4
}
