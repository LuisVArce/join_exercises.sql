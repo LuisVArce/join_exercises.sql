{
 "cells": [
  {
   "cell_type": "code",
   "execution_count": 1,
   "id": "9f702ca8",
   "metadata": {},
   "outputs": [],
   "source": [
    "import pandas as pd"
   ]
  },
  {
   "cell_type": "code",
   "execution_count": 2,
   "id": "345ee4eb",
   "metadata": {},
   "outputs": [
    {
     "name": "stdout",
     "output_type": "stream",
     "text": [
      "<class 'pandas.core.frame.DataFrame'>\n",
      "RangeIndex: 4 entries, 0 to 3\n",
      "Data columns (total 9 columns):\n",
      " #   Column      Non-Null Count  Dtype \n",
      "---  ------      --------------  ----- \n",
      " 0   name        4 non-null      object\n",
      " 1   2018-01-01  4 non-null      object\n",
      " 2   2018-01-02  4 non-null      object\n",
      " 3   2018-01-03  4 non-null      object\n",
      " 4   2018-01-04  4 non-null      object\n",
      " 5   2018-01-05  4 non-null      object\n",
      " 6   2018-01-06  4 non-null      object\n",
      " 7   2018-01-07  4 non-null      object\n",
      " 8   2018-01-08  4 non-null      object\n",
      "dtypes: object(9)\n",
      "memory usage: 416.0+ bytes\n"
     ]
    }
   ],
   "source": [
    "# 1A\n",
    "#\n",
    "\n",
    "attendance = pd.read_csv('untidy-data/attendance.csv', index_col=0)\n",
    "attendance.index.set_names('name', inplace=True)\n",
    "attendance.reset_index(inplace=True)\n",
    "attendance.info()"
   ]
  },
  {
   "cell_type": "code",
   "execution_count": 3,
   "id": "35d7fff7",
   "metadata": {},
   "outputs": [
    {
     "data": {
      "text/html": [
       "<div>\n",
       "<style scoped>\n",
       "    .dataframe tbody tr th:only-of-type {\n",
       "        vertical-align: middle;\n",
       "    }\n",
       "\n",
       "    .dataframe tbody tr th {\n",
       "        vertical-align: top;\n",
       "    }\n",
       "\n",
       "    .dataframe thead th {\n",
       "        text-align: right;\n",
       "    }\n",
       "</style>\n",
       "<table border=\"1\" class=\"dataframe\">\n",
       "  <thead>\n",
       "    <tr style=\"text-align: right;\">\n",
       "      <th></th>\n",
       "      <th>name</th>\n",
       "      <th>2018-01-01</th>\n",
       "      <th>2018-01-02</th>\n",
       "      <th>2018-01-03</th>\n",
       "      <th>2018-01-04</th>\n",
       "      <th>2018-01-05</th>\n",
       "      <th>2018-01-06</th>\n",
       "      <th>2018-01-07</th>\n",
       "      <th>2018-01-08</th>\n",
       "    </tr>\n",
       "  </thead>\n",
       "  <tbody>\n",
       "    <tr>\n",
       "      <th>0</th>\n",
       "      <td>Sally</td>\n",
       "      <td>P</td>\n",
       "      <td>T</td>\n",
       "      <td>T</td>\n",
       "      <td>H</td>\n",
       "      <td>P</td>\n",
       "      <td>A</td>\n",
       "      <td>T</td>\n",
       "      <td>T</td>\n",
       "    </tr>\n",
       "    <tr>\n",
       "      <th>1</th>\n",
       "      <td>Jane</td>\n",
       "      <td>A</td>\n",
       "      <td>P</td>\n",
       "      <td>T</td>\n",
       "      <td>T</td>\n",
       "      <td>T</td>\n",
       "      <td>T</td>\n",
       "      <td>A</td>\n",
       "      <td>T</td>\n",
       "    </tr>\n",
       "    <tr>\n",
       "      <th>2</th>\n",
       "      <td>Billy</td>\n",
       "      <td>A</td>\n",
       "      <td>T</td>\n",
       "      <td>A</td>\n",
       "      <td>A</td>\n",
       "      <td>H</td>\n",
       "      <td>T</td>\n",
       "      <td>P</td>\n",
       "      <td>T</td>\n",
       "    </tr>\n",
       "    <tr>\n",
       "      <th>3</th>\n",
       "      <td>John</td>\n",
       "      <td>P</td>\n",
       "      <td>T</td>\n",
       "      <td>H</td>\n",
       "      <td>P</td>\n",
       "      <td>P</td>\n",
       "      <td>T</td>\n",
       "      <td>P</td>\n",
       "      <td>P</td>\n",
       "    </tr>\n",
       "  </tbody>\n",
       "</table>\n",
       "</div>"
      ],
      "text/plain": [
       "    name 2018-01-01 2018-01-02 2018-01-03 2018-01-04 2018-01-05 2018-01-06  \\\n",
       "0  Sally          P          T          T          H          P          A   \n",
       "1   Jane          A          P          T          T          T          T   \n",
       "2  Billy          A          T          A          A          H          T   \n",
       "3   John          P          T          H          P          P          T   \n",
       "\n",
       "  2018-01-07 2018-01-08  \n",
       "0          T          T  \n",
       "1          A          T  \n",
       "2          P          T  \n",
       "3          P          P  "
      ]
     },
     "execution_count": 3,
     "metadata": {},
     "output_type": "execute_result"
    }
   ],
   "source": [
    "attendance.head()"
   ]
  },
  {
   "cell_type": "code",
   "execution_count": 4,
   "id": "c7f36954",
   "metadata": {},
   "outputs": [
    {
     "data": {
      "text/html": [
       "<div>\n",
       "<style scoped>\n",
       "    .dataframe tbody tr th:only-of-type {\n",
       "        vertical-align: middle;\n",
       "    }\n",
       "\n",
       "    .dataframe tbody tr th {\n",
       "        vertical-align: top;\n",
       "    }\n",
       "\n",
       "    .dataframe thead th {\n",
       "        text-align: right;\n",
       "    }\n",
       "</style>\n",
       "<table border=\"1\" class=\"dataframe\">\n",
       "  <thead>\n",
       "    <tr style=\"text-align: right;\">\n",
       "      <th></th>\n",
       "      <th>name</th>\n",
       "      <th>value</th>\n",
       "    </tr>\n",
       "  </thead>\n",
       "  <tbody>\n",
       "    <tr>\n",
       "      <th>0</th>\n",
       "      <td>Sally</td>\n",
       "      <td>P</td>\n",
       "    </tr>\n",
       "    <tr>\n",
       "      <th>1</th>\n",
       "      <td>Jane</td>\n",
       "      <td>A</td>\n",
       "    </tr>\n",
       "    <tr>\n",
       "      <th>2</th>\n",
       "      <td>Billy</td>\n",
       "      <td>A</td>\n",
       "    </tr>\n",
       "    <tr>\n",
       "      <th>3</th>\n",
       "      <td>John</td>\n",
       "      <td>P</td>\n",
       "    </tr>\n",
       "    <tr>\n",
       "      <th>4</th>\n",
       "      <td>Sally</td>\n",
       "      <td>T</td>\n",
       "    </tr>\n",
       "  </tbody>\n",
       "</table>\n",
       "</div>"
      ],
      "text/plain": [
       "    name value\n",
       "0  Sally     P\n",
       "1   Jane     A\n",
       "2  Billy     A\n",
       "3   John     P\n",
       "4  Sally     T"
      ]
     },
     "execution_count": 4,
     "metadata": {},
     "output_type": "execute_result"
    }
   ],
   "source": [
    "# 1B\n",
    "#calculate an attendance percentage for each student\n",
    "\n",
    "# P = 1\n",
    "# A = 0\n",
    "# H = .5\n",
    "# T = .9\n",
    "\n",
    "attendance = attendance.melt(id_vars=['name']).drop(columns = 'variable')\n",
    "attendance.head()"
   ]
  },
  {
   "cell_type": "code",
   "execution_count": 5,
   "id": "f575762a",
   "metadata": {},
   "outputs": [
    {
     "data": {
      "text/plain": [
       "0.9"
      ]
     },
     "execution_count": 5,
     "metadata": {},
     "output_type": "execute_result"
    }
   ],
   "source": [
    "def get_attendance_grade(letter):\n",
    "    if letter == 'P':\n",
    "        return 1\n",
    "    elif letter == 'A':\n",
    "        return 0\n",
    "    elif letter == 'T':\n",
    "        return 0.9\n",
    "    elif letter == 'H':\n",
    "        return 0.5\n",
    "\n",
    "get_attendance_grade('T')"
   ]
  },
  {
   "cell_type": "code",
   "execution_count": 6,
   "id": "b4c57e1d",
   "metadata": {},
   "outputs": [
    {
     "ename": "SyntaxError",
     "evalue": "positional argument follows keyword argument (1613770932.py, line 9)",
     "output_type": "error",
     "traceback": [
      "\u001b[0;36m  Input \u001b[0;32mIn [6]\u001b[0;36m\u001b[0m\n\u001b[0;31m    attendance  = attendance.melt(id_vars='name', var_na\u001b[0m\n\u001b[0m                                                                  ^\u001b[0m\n\u001b[0;31mSyntaxError\u001b[0m\u001b[0;31m:\u001b[0m positional argument follows keyword argument\n"
     ]
    }
   ],
   "source": [
    "grades = {\n",
    "    'P': 1,\n",
    "    'A': 0,\n",
    "    'H': 0.5,\n",
    "    'T': 0.9,}\n",
    "\n",
    "attendance = pd.read_csv('untidy-data/attendance.csv', index_col=0)\n",
    "attendance  = attendance.rename(columns={'Unnamed: 0': 'name'})\n",
    "attendance  = attendance.melt(id_vars='name', var_na          "
   ]
  },
  {
   "cell_type": "code",
   "execution_count": null,
   "id": "b6ca8551",
   "metadata": {},
   "outputs": [],
   "source": [
    "df_coffee.head()"
   ]
  },
  {
   "cell_type": "code",
   "execution_count": null,
   "id": "fe071e54",
   "metadata": {},
   "outputs": [],
   "source": [
    "#2A\n",
    "\n",
    "\n",
    "df_coffee = pd.read_csv('untidy-data/coffee_levels.csv')\n",
    "df_coffee.head()"
   ]
  },
  {
   "cell_type": "code",
   "execution_count": null,
   "id": "f2e509ff",
   "metadata": {},
   "outputs": [],
   "source": [
    "#2B\n",
    "\n",
    "df_coffee = df_coffee.pivot_table(index = ['hour'],\n",
    "                                  columns = 'coffee_carafe',\n",
    "                                  values = 'coffee_amount').reset_index()\n",
    "df_coffee.round(3).head()\n",
    "\n",
    "#3 Yeah, it's easier to read"
   ]
  },
  {
   "cell_type": "code",
   "execution_count": 7,
   "id": "1bb8ecb5",
   "metadata": {},
   "outputs": [
    {
     "data": {
      "text/plain": [
       "(8, 5)"
      ]
     },
     "execution_count": 7,
     "metadata": {},
     "output_type": "execute_result"
    }
   ],
   "source": [
    "# 3\n",
    "\n",
    "df_cake = pd.read_csv('untidy-data/cake_recipes.csv')\n",
    "df_cake.shape"
   ]
  },
  {
   "cell_type": "code",
   "execution_count": 8,
   "id": "56672576",
   "metadata": {},
   "outputs": [
    {
     "data": {
      "text/html": [
       "<div>\n",
       "<style scoped>\n",
       "    .dataframe tbody tr th:only-of-type {\n",
       "        vertical-align: middle;\n",
       "    }\n",
       "\n",
       "    .dataframe tbody tr th {\n",
       "        vertical-align: top;\n",
       "    }\n",
       "\n",
       "    .dataframe thead th {\n",
       "        text-align: right;\n",
       "    }\n",
       "</style>\n",
       "<table border=\"1\" class=\"dataframe\">\n",
       "  <thead>\n",
       "    <tr style=\"text-align: right;\">\n",
       "      <th></th>\n",
       "      <th>recipes</th>\n",
       "      <th>positions</th>\n",
       "      <th>temp</th>\n",
       "      <th>tastiness</th>\n",
       "    </tr>\n",
       "  </thead>\n",
       "  <tbody>\n",
       "    <tr>\n",
       "      <th>0</th>\n",
       "      <td>a</td>\n",
       "      <td>bottom</td>\n",
       "      <td>225</td>\n",
       "      <td>61.738655</td>\n",
       "    </tr>\n",
       "    <tr>\n",
       "      <th>1</th>\n",
       "      <td>a</td>\n",
       "      <td>top</td>\n",
       "      <td>225</td>\n",
       "      <td>51.709751</td>\n",
       "    </tr>\n",
       "    <tr>\n",
       "      <th>2</th>\n",
       "      <td>b</td>\n",
       "      <td>bottom</td>\n",
       "      <td>225</td>\n",
       "      <td>57.095320</td>\n",
       "    </tr>\n",
       "    <tr>\n",
       "      <th>3</th>\n",
       "      <td>b</td>\n",
       "      <td>top</td>\n",
       "      <td>225</td>\n",
       "      <td>82.455004</td>\n",
       "    </tr>\n",
       "    <tr>\n",
       "      <th>4</th>\n",
       "      <td>c</td>\n",
       "      <td>bottom</td>\n",
       "      <td>225</td>\n",
       "      <td>96.470207</td>\n",
       "    </tr>\n",
       "  </tbody>\n",
       "</table>\n",
       "</div>"
      ],
      "text/plain": [
       "  recipes positions temp  tastiness\n",
       "0       a    bottom  225  61.738655\n",
       "1       a       top  225  51.709751\n",
       "2       b    bottom  225  57.095320\n",
       "3       b       top  225  82.455004\n",
       "4       c    bottom  225  96.470207"
      ]
     },
     "execution_count": 8,
     "metadata": {},
     "output_type": "execute_result"
    }
   ],
   "source": [
    "# 3B\n",
    "\n",
    "recipes_positions = df_cake['recipe:position'].str.split(':', expand=True)\n",
    "recipes_positions.columns = ['recipes','positions']\n",
    "df_cake = pd.concat([df_cake, recipes_positions], axis=1).drop(columns='recipe:position')\n",
    "df_cake = df_cake.melt(id_vars = ['recipes', 'positions'], var_name = 'temp', value_name = 'tastiness')\n",
    "df_cake.head()\n"
   ]
  },
  {
   "cell_type": "code",
   "execution_count": 9,
   "id": "8ba617e8",
   "metadata": {},
   "outputs": [
    {
     "data": {
      "text/plain": [
       "recipes\n",
       "a    63.92\n",
       "b    76.74\n",
       "c    75.87\n",
       "d    62.86\n",
       "Name: tastiness, dtype: float64"
      ]
     },
     "execution_count": 9,
     "metadata": {},
     "output_type": "execute_result"
    }
   ],
   "source": [
    "#3C\n",
    "\n",
    "df_cake.groupby('recipes').tastiness.mean().round(2)"
   ]
  },
  {
   "cell_type": "code",
   "execution_count": 10,
   "id": "4b7af385",
   "metadata": {},
   "outputs": [
    {
     "data": {
      "text/plain": [
       "temp\n",
       "225    71.31\n",
       "250    66.58\n",
       "275    74.89\n",
       "300    66.63\n",
       "Name: tastiness, dtype: float64"
      ]
     },
     "execution_count": 10,
     "metadata": {},
     "output_type": "execute_result"
    }
   ],
   "source": [
    "#3D\n",
    "\n",
    "df_cake.groupby('temp').tastiness.mean().round(2)"
   ]
  },
  {
   "cell_type": "code",
   "execution_count": 11,
   "id": "eb8b53bf",
   "metadata": {},
   "outputs": [
    {
     "data": {
      "text/html": [
       "<div>\n",
       "<style scoped>\n",
       "    .dataframe tbody tr th:only-of-type {\n",
       "        vertical-align: middle;\n",
       "    }\n",
       "\n",
       "    .dataframe tbody tr th {\n",
       "        vertical-align: top;\n",
       "    }\n",
       "\n",
       "    .dataframe thead th {\n",
       "        text-align: right;\n",
       "    }\n",
       "</style>\n",
       "<table border=\"1\" class=\"dataframe\">\n",
       "  <thead>\n",
       "    <tr style=\"text-align: right;\">\n",
       "      <th></th>\n",
       "      <th>recipes</th>\n",
       "      <th>positions</th>\n",
       "      <th>temp</th>\n",
       "      <th>tastiness</th>\n",
       "    </tr>\n",
       "  </thead>\n",
       "  <tbody>\n",
       "    <tr>\n",
       "      <th>4</th>\n",
       "      <td>c</td>\n",
       "      <td>bottom</td>\n",
       "      <td>225</td>\n",
       "      <td>96.470207</td>\n",
       "    </tr>\n",
       "    <tr>\n",
       "      <th>7</th>\n",
       "      <td>d</td>\n",
       "      <td>top</td>\n",
       "      <td>225</td>\n",
       "      <td>96.873178</td>\n",
       "    </tr>\n",
       "    <tr>\n",
       "      <th>19</th>\n",
       "      <td>b</td>\n",
       "      <td>top</td>\n",
       "      <td>275</td>\n",
       "      <td>98.594881</td>\n",
       "    </tr>\n",
       "    <tr>\n",
       "      <th>24</th>\n",
       "      <td>a</td>\n",
       "      <td>bottom</td>\n",
       "      <td>300</td>\n",
       "      <td>98.786784</td>\n",
       "    </tr>\n",
       "    <tr>\n",
       "      <th>26</th>\n",
       "      <td>b</td>\n",
       "      <td>bottom</td>\n",
       "      <td>300</td>\n",
       "      <td>99.248541</td>\n",
       "    </tr>\n",
       "  </tbody>\n",
       "</table>\n",
       "</div>"
      ],
      "text/plain": [
       "   recipes positions temp  tastiness\n",
       "4        c    bottom  225  96.470207\n",
       "7        d       top  225  96.873178\n",
       "19       b       top  275  98.594881\n",
       "24       a    bottom  300  98.786784\n",
       "26       b    bottom  300  99.248541"
      ]
     },
     "execution_count": 11,
     "metadata": {},
     "output_type": "execute_result"
    }
   ],
   "source": [
    "#3E\n",
    "\n",
    "df_cake.sort_values(by='tastiness').tail()"
   ]
  },
  {
   "cell_type": "code",
   "execution_count": null,
   "id": "df5d8404",
   "metadata": {},
   "outputs": [],
   "source": []
  },
  {
   "cell_type": "code",
   "execution_count": null,
   "id": "7c336822",
   "metadata": {},
   "outputs": [],
   "source": []
  },
  {
   "cell_type": "code",
   "execution_count": null,
   "id": "1f970e9d",
   "metadata": {},
   "outputs": [],
   "source": []
  },
  {
   "cell_type": "code",
   "execution_count": null,
   "id": "7b29d094",
   "metadata": {},
   "outputs": [],
   "source": []
  }
 ],
 "metadata": {
  "kernelspec": {
   "display_name": "Python 3 (ipykernel)",
   "language": "python",
   "name": "python3"
  },
  "language_info": {
   "codemirror_mode": {
    "name": "ipython",
    "version": 3
   },
   "file_extension": ".py",
   "mimetype": "text/x-python",
   "name": "python",
   "nbconvert_exporter": "python",
   "pygments_lexer": "ipython3",
   "version": "3.9.12"
  }
 },
 "nbformat": 4,
 "nbformat_minor": 5
}
