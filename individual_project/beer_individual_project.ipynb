{
 "cells": [
  {
   "cell_type": "code",
   "execution_count": 23,
   "id": "e9d6a408",
   "metadata": {},
   "outputs": [],
   "source": [
    "# Libraries \n",
    "import datetime\n",
    "import numpy as np\n",
    "import pandas as pd\n",
    "import seaborn as sns\n",
    "import matplotlib.pyplot as plt\n",
    "\n",
    "# So the notebook doesn't yell at me\n",
    "%matplotlib inline\n",
    "import warnings\n",
    "warnings.filterwarnings(\"ignore\")\n",
    "\n",
    "# Zillow .py stuff and functions\n",
    "#from acquire \n",
    "#from prepare \n",
    "\n",
    "#Some stuff I might have forgotten\n",
    "#import env\n",
    "#from env import user, password, host\n",
    "from scipy import stats\n",
    "\n",
    "\n",
    "\n",
    "# sklearn modeling stuff\n",
    "import sklearn.preprocessing\n",
    "from sklearn.linear_model import LinearRegression\n",
    "from sklearn.metrics import mean_squared_error\n",
    "from sklearn.feature_selection import SelectKBest, f_regression, RFE, SequentialFeatureSelector\n",
    "from sklearn.model_selection import train_test_split\n",
    "#from evaluate import select_kbest_feature_engineering, rfe_feature_engineering\n",
    "#from evaluate import scaled_data, assessed_value_regression_plot, baseline_vs_model_regression\n",
    "from scipy.stats import pearsonr, spearmanr\n",
    "\n",
    "from sklearn.model_selection import train_test_split\n",
    "\n",
    "from math import sqrt\n",
    "\n",
    "from sklearn.preprocessing import PolynomialFeatures\n",
    "from sklearn.linear_model import LinearRegression, LassoLars, TweedieRegressor\n",
    "\n"
   ]
  },
  {
   "cell_type": "markdown",
   "id": "1ca12cdc",
   "metadata": {},
   "source": [
    "# Acquisition\n",
    "- read from url csv"
   ]
  },
  {
   "cell_type": "code",
   "execution_count": 24,
   "id": "d26b3987",
   "metadata": {
    "scrolled": true
   },
   "outputs": [
    {
     "data": {
      "text/html": [
       "<div>\n",
       "<style scoped>\n",
       "    .dataframe tbody tr th:only-of-type {\n",
       "        vertical-align: middle;\n",
       "    }\n",
       "\n",
       "    .dataframe tbody tr th {\n",
       "        vertical-align: top;\n",
       "    }\n",
       "\n",
       "    .dataframe thead th {\n",
       "        text-align: right;\n",
       "    }\n",
       "</style>\n",
       "<table border=\"1\" class=\"dataframe\">\n",
       "  <thead>\n",
       "    <tr style=\"text-align: right;\">\n",
       "      <th></th>\n",
       "      <th>brewery_id</th>\n",
       "      <th>brewery_name</th>\n",
       "      <th>review_time</th>\n",
       "      <th>review_overall</th>\n",
       "      <th>review_aroma</th>\n",
       "      <th>review_appearance</th>\n",
       "      <th>review_profilename</th>\n",
       "      <th>beer_style</th>\n",
       "      <th>review_palate</th>\n",
       "      <th>review_taste</th>\n",
       "      <th>beer_name</th>\n",
       "      <th>beer_abv</th>\n",
       "      <th>beer_beerid</th>\n",
       "    </tr>\n",
       "  </thead>\n",
       "  <tbody>\n",
       "    <tr>\n",
       "      <th>0</th>\n",
       "      <td>10325</td>\n",
       "      <td>Vecchio Birraio</td>\n",
       "      <td>1234817823</td>\n",
       "      <td>1.5</td>\n",
       "      <td>2.0</td>\n",
       "      <td>2.5</td>\n",
       "      <td>stcules</td>\n",
       "      <td>Hefeweizen</td>\n",
       "      <td>1.5</td>\n",
       "      <td>1.5</td>\n",
       "      <td>Sausa Weizen</td>\n",
       "      <td>5.0</td>\n",
       "      <td>47986</td>\n",
       "    </tr>\n",
       "    <tr>\n",
       "      <th>1</th>\n",
       "      <td>10325</td>\n",
       "      <td>Vecchio Birraio</td>\n",
       "      <td>1235915097</td>\n",
       "      <td>3.0</td>\n",
       "      <td>2.5</td>\n",
       "      <td>3.0</td>\n",
       "      <td>stcules</td>\n",
       "      <td>English Strong Ale</td>\n",
       "      <td>3.0</td>\n",
       "      <td>3.0</td>\n",
       "      <td>Red Moon</td>\n",
       "      <td>6.2</td>\n",
       "      <td>48213</td>\n",
       "    </tr>\n",
       "    <tr>\n",
       "      <th>2</th>\n",
       "      <td>10325</td>\n",
       "      <td>Vecchio Birraio</td>\n",
       "      <td>1235916604</td>\n",
       "      <td>3.0</td>\n",
       "      <td>2.5</td>\n",
       "      <td>3.0</td>\n",
       "      <td>stcules</td>\n",
       "      <td>Foreign / Export Stout</td>\n",
       "      <td>3.0</td>\n",
       "      <td>3.0</td>\n",
       "      <td>Black Horse Black Beer</td>\n",
       "      <td>6.5</td>\n",
       "      <td>48215</td>\n",
       "    </tr>\n",
       "    <tr>\n",
       "      <th>3</th>\n",
       "      <td>10325</td>\n",
       "      <td>Vecchio Birraio</td>\n",
       "      <td>1234725145</td>\n",
       "      <td>3.0</td>\n",
       "      <td>3.0</td>\n",
       "      <td>3.5</td>\n",
       "      <td>stcules</td>\n",
       "      <td>German Pilsener</td>\n",
       "      <td>2.5</td>\n",
       "      <td>3.0</td>\n",
       "      <td>Sausa Pils</td>\n",
       "      <td>5.0</td>\n",
       "      <td>47969</td>\n",
       "    </tr>\n",
       "    <tr>\n",
       "      <th>4</th>\n",
       "      <td>1075</td>\n",
       "      <td>Caldera Brewing Company</td>\n",
       "      <td>1293735206</td>\n",
       "      <td>4.0</td>\n",
       "      <td>4.5</td>\n",
       "      <td>4.0</td>\n",
       "      <td>johnmichaelsen</td>\n",
       "      <td>American Double / Imperial IPA</td>\n",
       "      <td>4.0</td>\n",
       "      <td>4.5</td>\n",
       "      <td>Cauldron DIPA</td>\n",
       "      <td>7.7</td>\n",
       "      <td>64883</td>\n",
       "    </tr>\n",
       "  </tbody>\n",
       "</table>\n",
       "</div>"
      ],
      "text/plain": [
       "   brewery_id             brewery_name  review_time  review_overall  \\\n",
       "0       10325          Vecchio Birraio   1234817823             1.5   \n",
       "1       10325          Vecchio Birraio   1235915097             3.0   \n",
       "2       10325          Vecchio Birraio   1235916604             3.0   \n",
       "3       10325          Vecchio Birraio   1234725145             3.0   \n",
       "4        1075  Caldera Brewing Company   1293735206             4.0   \n",
       "\n",
       "   review_aroma  review_appearance review_profilename  \\\n",
       "0           2.0                2.5            stcules   \n",
       "1           2.5                3.0            stcules   \n",
       "2           2.5                3.0            stcules   \n",
       "3           3.0                3.5            stcules   \n",
       "4           4.5                4.0     johnmichaelsen   \n",
       "\n",
       "                       beer_style  review_palate  review_taste  \\\n",
       "0                      Hefeweizen            1.5           1.5   \n",
       "1              English Strong Ale            3.0           3.0   \n",
       "2          Foreign / Export Stout            3.0           3.0   \n",
       "3                 German Pilsener            2.5           3.0   \n",
       "4  American Double / Imperial IPA            4.0           4.5   \n",
       "\n",
       "                beer_name  beer_abv  beer_beerid  \n",
       "0            Sausa Weizen       5.0        47986  \n",
       "1                Red Moon       6.2        48213  \n",
       "2  Black Horse Black Beer       6.5        48215  \n",
       "3              Sausa Pils       5.0        47969  \n",
       "4           Cauldron DIPA       7.7        64883  "
      ]
     },
     "execution_count": 24,
     "metadata": {},
     "output_type": "execute_result"
    }
   ],
   "source": [
    "df = pd.read_csv('https://query.data.world/s/r6psulerzbz7pdb2vctbrfig5rx6fi')\n",
    "df.head()"
   ]
  },
  {
   "cell_type": "code",
   "execution_count": 25,
   "id": "b19a5f48",
   "metadata": {},
   "outputs": [
    {
     "data": {
      "text/plain": [
       "(1586614, 13)"
      ]
     },
     "execution_count": 25,
     "metadata": {},
     "output_type": "execute_result"
    }
   ],
   "source": [
    "df.shape"
   ]
  },
  {
   "cell_type": "code",
   "execution_count": 26,
   "id": "ca59cc8c",
   "metadata": {
    "scrolled": true
   },
   "outputs": [
    {
     "data": {
      "text/plain": [
       "Index(['brewery_id', 'brewery_name', 'review_time', 'review_overall',\n",
       "       'review_aroma', 'review_appearance', 'review_profilename', 'beer_style',\n",
       "       'review_palate', 'review_taste', 'beer_name', 'beer_abv',\n",
       "       'beer_beerid'],\n",
       "      dtype='object')"
      ]
     },
     "execution_count": 26,
     "metadata": {},
     "output_type": "execute_result"
    }
   ],
   "source": [
    "df.columns"
   ]
  },
  {
   "cell_type": "code",
   "execution_count": 37,
   "id": "f84991b3",
   "metadata": {},
   "outputs": [
    {
     "name": "stdout",
     "output_type": "stream",
     "text": [
      "<class 'pandas.core.frame.DataFrame'>\n",
      "RangeIndex: 1586614 entries, 0 to 1586613\n",
      "Data columns (total 13 columns):\n",
      " #   Column              Non-Null Count    Dtype  \n",
      "---  ------              --------------    -----  \n",
      " 0   brewery_id          1586614 non-null  int64  \n",
      " 1   brewery_name        1586599 non-null  object \n",
      " 2   review_time         1586614 non-null  int64  \n",
      " 3   review_overall      1586614 non-null  float64\n",
      " 4   review_aroma        1586614 non-null  float64\n",
      " 5   review_appearance   1586614 non-null  float64\n",
      " 6   review_profilename  1586266 non-null  object \n",
      " 7   beer_style          1586614 non-null  object \n",
      " 8   review_palate       1586614 non-null  float64\n",
      " 9   review_taste        1586614 non-null  float64\n",
      " 10  beer_name           1586614 non-null  object \n",
      " 11  beer_abv            1518829 non-null  float64\n",
      " 12  beer_beerid         1586614 non-null  int64  \n",
      "dtypes: float64(6), int64(3), object(4)\n",
      "memory usage: 157.4+ MB\n"
     ]
    }
   ],
   "source": [
    "df.info()"
   ]
  },
  {
   "cell_type": "code",
   "execution_count": 30,
   "id": "4fba7e8e",
   "metadata": {},
   "outputs": [
    {
     "data": {
      "text/html": [
       "<div>\n",
       "<style scoped>\n",
       "    .dataframe tbody tr th:only-of-type {\n",
       "        vertical-align: middle;\n",
       "    }\n",
       "\n",
       "    .dataframe tbody tr th {\n",
       "        vertical-align: top;\n",
       "    }\n",
       "\n",
       "    .dataframe thead th {\n",
       "        text-align: right;\n",
       "    }\n",
       "</style>\n",
       "<table border=\"1\" class=\"dataframe\">\n",
       "  <thead>\n",
       "    <tr style=\"text-align: right;\">\n",
       "      <th></th>\n",
       "      <th>count</th>\n",
       "      <th>mean</th>\n",
       "      <th>std</th>\n",
       "      <th>min</th>\n",
       "      <th>25%</th>\n",
       "      <th>50%</th>\n",
       "      <th>75%</th>\n",
       "      <th>max</th>\n",
       "    </tr>\n",
       "  </thead>\n",
       "  <tbody>\n",
       "    <tr>\n",
       "      <th>brewery_id</th>\n",
       "      <td>1586614.0</td>\n",
       "      <td>3.130099e+03</td>\n",
       "      <td>5.578104e+03</td>\n",
       "      <td>1.000000e+00</td>\n",
       "      <td>1.430000e+02</td>\n",
       "      <td>4.290000e+02</td>\n",
       "      <td>2.372000e+03</td>\n",
       "      <td>2.800300e+04</td>\n",
       "    </tr>\n",
       "    <tr>\n",
       "      <th>review_time</th>\n",
       "      <td>1586614.0</td>\n",
       "      <td>1.224089e+09</td>\n",
       "      <td>7.654427e+07</td>\n",
       "      <td>8.406720e+08</td>\n",
       "      <td>1.173224e+09</td>\n",
       "      <td>1.239203e+09</td>\n",
       "      <td>1.288568e+09</td>\n",
       "      <td>1.326285e+09</td>\n",
       "    </tr>\n",
       "    <tr>\n",
       "      <th>review_overall</th>\n",
       "      <td>1586614.0</td>\n",
       "      <td>3.815581e+00</td>\n",
       "      <td>7.206219e-01</td>\n",
       "      <td>0.000000e+00</td>\n",
       "      <td>3.500000e+00</td>\n",
       "      <td>4.000000e+00</td>\n",
       "      <td>4.500000e+00</td>\n",
       "      <td>5.000000e+00</td>\n",
       "    </tr>\n",
       "    <tr>\n",
       "      <th>review_aroma</th>\n",
       "      <td>1586614.0</td>\n",
       "      <td>3.735636e+00</td>\n",
       "      <td>6.976167e-01</td>\n",
       "      <td>1.000000e+00</td>\n",
       "      <td>3.500000e+00</td>\n",
       "      <td>4.000000e+00</td>\n",
       "      <td>4.000000e+00</td>\n",
       "      <td>5.000000e+00</td>\n",
       "    </tr>\n",
       "    <tr>\n",
       "      <th>review_appearance</th>\n",
       "      <td>1586614.0</td>\n",
       "      <td>3.841642e+00</td>\n",
       "      <td>6.160928e-01</td>\n",
       "      <td>0.000000e+00</td>\n",
       "      <td>3.500000e+00</td>\n",
       "      <td>4.000000e+00</td>\n",
       "      <td>4.000000e+00</td>\n",
       "      <td>5.000000e+00</td>\n",
       "    </tr>\n",
       "    <tr>\n",
       "      <th>review_palate</th>\n",
       "      <td>1586614.0</td>\n",
       "      <td>3.743701e+00</td>\n",
       "      <td>6.822184e-01</td>\n",
       "      <td>1.000000e+00</td>\n",
       "      <td>3.500000e+00</td>\n",
       "      <td>4.000000e+00</td>\n",
       "      <td>4.000000e+00</td>\n",
       "      <td>5.000000e+00</td>\n",
       "    </tr>\n",
       "    <tr>\n",
       "      <th>review_taste</th>\n",
       "      <td>1586614.0</td>\n",
       "      <td>3.792860e+00</td>\n",
       "      <td>7.319696e-01</td>\n",
       "      <td>1.000000e+00</td>\n",
       "      <td>3.500000e+00</td>\n",
       "      <td>4.000000e+00</td>\n",
       "      <td>4.500000e+00</td>\n",
       "      <td>5.000000e+00</td>\n",
       "    </tr>\n",
       "    <tr>\n",
       "      <th>beer_abv</th>\n",
       "      <td>1518829.0</td>\n",
       "      <td>7.042387e+00</td>\n",
       "      <td>2.322526e+00</td>\n",
       "      <td>1.000000e-02</td>\n",
       "      <td>5.200000e+00</td>\n",
       "      <td>6.500000e+00</td>\n",
       "      <td>8.500000e+00</td>\n",
       "      <td>5.770000e+01</td>\n",
       "    </tr>\n",
       "    <tr>\n",
       "      <th>beer_beerid</th>\n",
       "      <td>1586614.0</td>\n",
       "      <td>2.171279e+04</td>\n",
       "      <td>2.181834e+04</td>\n",
       "      <td>3.000000e+00</td>\n",
       "      <td>1.717000e+03</td>\n",
       "      <td>1.390600e+04</td>\n",
       "      <td>3.944100e+04</td>\n",
       "      <td>7.731700e+04</td>\n",
       "    </tr>\n",
       "  </tbody>\n",
       "</table>\n",
       "</div>"
      ],
      "text/plain": [
       "                       count          mean           std           min  \\\n",
       "brewery_id         1586614.0  3.130099e+03  5.578104e+03  1.000000e+00   \n",
       "review_time        1586614.0  1.224089e+09  7.654427e+07  8.406720e+08   \n",
       "review_overall     1586614.0  3.815581e+00  7.206219e-01  0.000000e+00   \n",
       "review_aroma       1586614.0  3.735636e+00  6.976167e-01  1.000000e+00   \n",
       "review_appearance  1586614.0  3.841642e+00  6.160928e-01  0.000000e+00   \n",
       "review_palate      1586614.0  3.743701e+00  6.822184e-01  1.000000e+00   \n",
       "review_taste       1586614.0  3.792860e+00  7.319696e-01  1.000000e+00   \n",
       "beer_abv           1518829.0  7.042387e+00  2.322526e+00  1.000000e-02   \n",
       "beer_beerid        1586614.0  2.171279e+04  2.181834e+04  3.000000e+00   \n",
       "\n",
       "                            25%           50%           75%           max  \n",
       "brewery_id         1.430000e+02  4.290000e+02  2.372000e+03  2.800300e+04  \n",
       "review_time        1.173224e+09  1.239203e+09  1.288568e+09  1.326285e+09  \n",
       "review_overall     3.500000e+00  4.000000e+00  4.500000e+00  5.000000e+00  \n",
       "review_aroma       3.500000e+00  4.000000e+00  4.000000e+00  5.000000e+00  \n",
       "review_appearance  3.500000e+00  4.000000e+00  4.000000e+00  5.000000e+00  \n",
       "review_palate      3.500000e+00  4.000000e+00  4.000000e+00  5.000000e+00  \n",
       "review_taste       3.500000e+00  4.000000e+00  4.500000e+00  5.000000e+00  \n",
       "beer_abv           5.200000e+00  6.500000e+00  8.500000e+00  5.770000e+01  \n",
       "beer_beerid        1.717000e+03  1.390600e+04  3.944100e+04  7.731700e+04  "
      ]
     },
     "execution_count": 30,
     "metadata": {},
     "output_type": "execute_result"
    }
   ],
   "source": [
    "df.describe().T\n",
    "# The average of the beer_abv column seems high. I will have to check for outliers."
   ]
  },
  {
   "cell_type": "code",
   "execution_count": 31,
   "id": "72fa54e4",
   "metadata": {},
   "outputs": [
    {
     "data": {
      "text/plain": [
       "brewery_id                0\n",
       "brewery_name             15\n",
       "review_time               0\n",
       "review_overall            0\n",
       "review_aroma              0\n",
       "review_appearance         0\n",
       "review_profilename      348\n",
       "beer_style                0\n",
       "review_palate             0\n",
       "review_taste              0\n",
       "beer_name                 0\n",
       "beer_abv              67785\n",
       "beer_beerid               0\n",
       "dtype: int64"
      ]
     },
     "execution_count": 31,
     "metadata": {},
     "output_type": "execute_result"
    }
   ],
   "source": [
    "df.isnull().sum()"
   ]
  },
  {
   "cell_type": "markdown",
   "id": "f7bdf70c",
   "metadata": {},
   "source": [
    "# Preparation \n",
    "\n",
    "- Consider dropping review_time, beer_beerid and review_profilename column\n",
    "- See if you can get the average of the styles "
   ]
  },
  {
   "cell_type": "code",
   "execution_count": 8,
   "id": "9f00172b",
   "metadata": {},
   "outputs": [
    {
     "data": {
      "text/html": [
       "<div>\n",
       "<style scoped>\n",
       "    .dataframe tbody tr th:only-of-type {\n",
       "        vertical-align: middle;\n",
       "    }\n",
       "\n",
       "    .dataframe tbody tr th {\n",
       "        vertical-align: top;\n",
       "    }\n",
       "\n",
       "    .dataframe thead th {\n",
       "        text-align: right;\n",
       "    }\n",
       "</style>\n",
       "<table border=\"1\" class=\"dataframe\">\n",
       "  <thead>\n",
       "    <tr style=\"text-align: right;\">\n",
       "      <th></th>\n",
       "      <th>brewery_id</th>\n",
       "      <th>brewery_name</th>\n",
       "      <th>review_overall</th>\n",
       "      <th>review_aroma</th>\n",
       "      <th>review_appearance</th>\n",
       "      <th>beer_style</th>\n",
       "      <th>review_palate</th>\n",
       "      <th>review_taste</th>\n",
       "      <th>beer_name</th>\n",
       "      <th>beer_abv</th>\n",
       "    </tr>\n",
       "  </thead>\n",
       "  <tbody>\n",
       "    <tr>\n",
       "      <th>0</th>\n",
       "      <td>10325</td>\n",
       "      <td>Vecchio Birraio</td>\n",
       "      <td>1.5</td>\n",
       "      <td>2.0</td>\n",
       "      <td>2.5</td>\n",
       "      <td>Hefeweizen</td>\n",
       "      <td>1.5</td>\n",
       "      <td>1.5</td>\n",
       "      <td>Sausa Weizen</td>\n",
       "      <td>5.0</td>\n",
       "    </tr>\n",
       "    <tr>\n",
       "      <th>1</th>\n",
       "      <td>10325</td>\n",
       "      <td>Vecchio Birraio</td>\n",
       "      <td>3.0</td>\n",
       "      <td>2.5</td>\n",
       "      <td>3.0</td>\n",
       "      <td>English Strong Ale</td>\n",
       "      <td>3.0</td>\n",
       "      <td>3.0</td>\n",
       "      <td>Red Moon</td>\n",
       "      <td>6.2</td>\n",
       "    </tr>\n",
       "    <tr>\n",
       "      <th>2</th>\n",
       "      <td>10325</td>\n",
       "      <td>Vecchio Birraio</td>\n",
       "      <td>3.0</td>\n",
       "      <td>2.5</td>\n",
       "      <td>3.0</td>\n",
       "      <td>Foreign / Export Stout</td>\n",
       "      <td>3.0</td>\n",
       "      <td>3.0</td>\n",
       "      <td>Black Horse Black Beer</td>\n",
       "      <td>6.5</td>\n",
       "    </tr>\n",
       "    <tr>\n",
       "      <th>3</th>\n",
       "      <td>10325</td>\n",
       "      <td>Vecchio Birraio</td>\n",
       "      <td>3.0</td>\n",
       "      <td>3.0</td>\n",
       "      <td>3.5</td>\n",
       "      <td>German Pilsener</td>\n",
       "      <td>2.5</td>\n",
       "      <td>3.0</td>\n",
       "      <td>Sausa Pils</td>\n",
       "      <td>5.0</td>\n",
       "    </tr>\n",
       "    <tr>\n",
       "      <th>4</th>\n",
       "      <td>1075</td>\n",
       "      <td>Caldera Brewing Company</td>\n",
       "      <td>4.0</td>\n",
       "      <td>4.5</td>\n",
       "      <td>4.0</td>\n",
       "      <td>American Double / Imperial IPA</td>\n",
       "      <td>4.0</td>\n",
       "      <td>4.5</td>\n",
       "      <td>Cauldron DIPA</td>\n",
       "      <td>7.7</td>\n",
       "    </tr>\n",
       "  </tbody>\n",
       "</table>\n",
       "</div>"
      ],
      "text/plain": [
       "   brewery_id             brewery_name  review_overall  review_aroma  \\\n",
       "0       10325          Vecchio Birraio             1.5           2.0   \n",
       "1       10325          Vecchio Birraio             3.0           2.5   \n",
       "2       10325          Vecchio Birraio             3.0           2.5   \n",
       "3       10325          Vecchio Birraio             3.0           3.0   \n",
       "4        1075  Caldera Brewing Company             4.0           4.5   \n",
       "\n",
       "   review_appearance                      beer_style  review_palate  \\\n",
       "0                2.5                      Hefeweizen            1.5   \n",
       "1                3.0              English Strong Ale            3.0   \n",
       "2                3.0          Foreign / Export Stout            3.0   \n",
       "3                3.5                 German Pilsener            2.5   \n",
       "4                4.0  American Double / Imperial IPA            4.0   \n",
       "\n",
       "   review_taste               beer_name  beer_abv  \n",
       "0           1.5            Sausa Weizen       5.0  \n",
       "1           3.0                Red Moon       6.2  \n",
       "2           3.0  Black Horse Black Beer       6.5  \n",
       "3           3.0              Sausa Pils       5.0  \n",
       "4           4.5           Cauldron DIPA       7.7  "
      ]
     },
     "execution_count": 8,
     "metadata": {},
     "output_type": "execute_result"
    }
   ],
   "source": [
    "# Drop useless columns\n",
    "\n",
    "df = df.drop(columns=['review_time', 'beer_beerid', 'review_profilename'])\n",
    "df.head()"
   ]
  },
  {
   "cell_type": "code",
   "execution_count": 9,
   "id": "cd27f44a",
   "metadata": {},
   "outputs": [
    {
     "data": {
      "text/plain": [
       "Index(['brewery_id', 'brewery_name', 'review_overall', 'review_aroma',\n",
       "       'review_appearance', 'beer_style', 'review_palate', 'review_taste',\n",
       "       'beer_name', 'beer_abv'],\n",
       "      dtype='object')"
      ]
     },
     "execution_count": 9,
     "metadata": {},
     "output_type": "execute_result"
    }
   ],
   "source": [
    "df.columns"
   ]
  },
  {
   "cell_type": "code",
   "execution_count": 10,
   "id": "610ba7af",
   "metadata": {},
   "outputs": [
    {
     "data": {
      "text/plain": [
       "brewery_id             int64\n",
       "brewery_name          object\n",
       "review_overall       float64\n",
       "review_aroma         float64\n",
       "review_appearance    float64\n",
       "beer_style            object\n",
       "review_palate        float64\n",
       "review_taste         float64\n",
       "beer_name             object\n",
       "beer_abv             float64\n",
       "dtype: object"
      ]
     },
     "execution_count": 10,
     "metadata": {},
     "output_type": "execute_result"
    }
   ],
   "source": [
    "df.dtypes"
   ]
  },
  {
   "cell_type": "code",
   "execution_count": null,
   "id": "810c0e13",
   "metadata": {},
   "outputs": [],
   "source": []
  },
  {
   "cell_type": "code",
   "execution_count": 11,
   "id": "9635bb36",
   "metadata": {},
   "outputs": [],
   "source": [
    "# Turn this into a function\n",
    "\n",
    "df = df[df[\"beer_abv\"] <= 12.0]\n",
    "df = df[df[\"beer_abv\"] >=3.0]\n",
    "# Create a lower limit on beer_abv\n",
    "\n"
   ]
  },
  {
   "cell_type": "markdown",
   "id": "b212ebf9",
   "metadata": {},
   "source": [
    "# Exploration\n",
    "\n",
    "#### Question 1: What is the distribution of each variable?\n",
    "\n",
    "Univariate up first\n",
    "- We'll explore our variables with visualizations."
   ]
  },
  {
   "cell_type": "code",
   "execution_count": 12,
   "id": "0ac5e946",
   "metadata": {
    "scrolled": true
   },
   "outputs": [
    {
     "data": {
      "image/png": "[encoded data removed]",
      "text/plain": [
       "<Figure size 432x288 with 1 Axes>"
      ]
     },
     "metadata": {
      "needs_background": "light"
     },
     "output_type": "display_data"
    },
    {
     "data": {
      "image/png": "[encoded data removed]",
      "text/plain": [
       "<Figure size 432x288 with 1 Axes>"
      ]
     },
     "metadata": {
      "needs_background": "light"
     },
     "output_type": "display_data"
    },
    {
     "data": {
      "image/png": "[encoded data removed]",
      "text/plain": [
       "<Figure size 432x288 with 1 Axes>"
      ]
     },
     "metadata": {
      "needs_background": "light"
     },
     "output_type": "display_data"
    },
    {
     "data": {
      "image/png": "[encoded data removed]",
      "text/plain": [
       "<Figure size 432x288 with 1 Axes>"
      ]
     },
     "metadata": {
      "needs_background": "light"
     },
     "output_type": "display_data"
    },
    {
     "data": {
      "image/png": "[encoded data removed]",
      "text/plain": [
       "<Figure size 432x288 with 1 Axes>"
      ]
     },
     "metadata": {
      "needs_background": "light"
     },
     "output_type": "display_data"
    },
    {
     "data": {
      "image/png": "[encoded data removed]",
      "text/plain": [
       "<Figure size 432x288 with 1 Axes>"
      ]
     },
     "metadata": {
      "needs_background": "light"
     },
     "output_type": "display_data"
    }
   ],
   "source": [
    "continuous_variables = ['brewery_id', 'review_overall', 'review_aroma', 'review_appearance', 'review_palate', 'review_taste', 'beer_abv']\n",
    "\n",
    "\n",
    "plt.hist(df['review_overall'])\n",
    "plt.title('review_overall')\n",
    "plt.show()\n",
    "\n",
    "plt.hist(df['beer_abv'])\n",
    "plt.title('beer_abv')\n",
    "plt.show()\n",
    "\n",
    "plt.hist(df['review_aroma'])\n",
    "plt.title('review_aroma')\n",
    "plt.show()\n",
    "\n",
    "plt.hist(df['review_appearance'])\n",
    "plt.title('review_appearance')\n",
    "plt.show()\n",
    "\n",
    "plt.hist(df['review_palate'])\n",
    "plt.title('review_palate')\n",
    "plt.show()\n",
    "\n",
    "plt.hist(df['review_taste'])\n",
    "plt.title('review_taste')\n",
    "plt.show()"
   ]
  },
  {
   "cell_type": "markdown",
   "id": "57b5b3c7",
   "metadata": {},
   "source": [
    "### Takeaways\n",
    "\n",
    "- beer_abv has a slight right skew.  \n",
    "- review_overall has a definite left skew, so does review_appearance. Look into this.\n",
    "- review_taste, review_palate, review_aroma have a relatively universal distribution.\n",
    "- review_taste and review_palate have nearly identical distribution. I will want to use spearman's correlation test when testing the linear relationships due to the skew."
   ]
  },
  {
   "cell_type": "code",
   "execution_count": 13,
   "id": "d96b5514",
   "metadata": {},
   "outputs": [
    {
     "ename": "NameError",
     "evalue": "name 'col' is not defined",
     "output_type": "error",
     "traceback": [
      "\u001b[0;31m---------------------------------------------------------------------------\u001b[0m",
      "\u001b[0;31mNameError\u001b[0m                                 Traceback (most recent call last)",
      "Input \u001b[0;32mIn [13]\u001b[0m, in \u001b[0;36m<cell line: 2>\u001b[0;34m()\u001b[0m\n\u001b[1;32m      1\u001b[0m sns\u001b[38;5;241m.\u001b[39mrelplot(x\u001b[38;5;241m=\u001b[39mdf\u001b[38;5;241m.\u001b[39mbeer_abv, y\u001b[38;5;241m=\u001b[39mdf\u001b[38;5;241m.\u001b[39mreview_overall)\n\u001b[0;32m----> 2\u001b[0m plt\u001b[38;5;241m.\u001b[39mtitle(\u001b[43mcol\u001b[49m)\n\u001b[1;32m      3\u001b[0m plt\u001b[38;5;241m.\u001b[39mshow()\n",
      "\u001b[0;31mNameError\u001b[0m: name 'col' is not defined"
     ]
    },
    {
     "data": {
      "image/png": "[encoded data removed]",
      "text/plain": [
       "<Figure size 360x360 with 1 Axes>"
      ]
     },
     "metadata": {
      "needs_background": "light"
     },
     "output_type": "display_data"
    }
   ],
   "source": [
    "sns.relplot(x=df.beer_abv, y=df.review_overall)\n",
    "plt.title(col)\n",
    "plt.show()"
   ]
  },
  {
   "cell_type": "code",
   "execution_count": 14,
   "id": "c55dcf9f",
   "metadata": {},
   "outputs": [
    {
     "data": {
      "image/png": "[encoded data removed]",
      "text/plain": [
       "<Figure size 1080x576 with 2 Axes>"
      ]
     },
     "metadata": {
      "needs_background": "light"
     },
     "output_type": "display_data"
    }
   ],
   "source": [
    "# Heatmap\n",
    "plt.figure(figsize = (15,8))\n",
    "sns.heatmap(df[continuous_variables].corr(), cmap='coolwarm', center=0, annot=True)\n",
    "plt.show()\n",
    "\n",
    "# As we can see here, brewery_id has nothing to do with review_overall (obvisouly).\n",
    "# BUT, we do see some interesting correlations0"
   ]
  },
  {
   "cell_type": "code",
   "execution_count": 15,
   "id": "4b44af34",
   "metadata": {},
   "outputs": [
    {
     "data": {
      "image/png": "[encoded data removed]",
      "text/plain": [
       "<Figure size 360x360 with 1 Axes>"
      ]
     },
     "metadata": {
      "needs_background": "light"
     },
     "output_type": "display_data"
    }
   ],
   "source": [
    "sns.lmplot(x=\"beer_abv\", y=\"review_overall\", data=df, line_kws={'color': 'red'})\n",
    "plt.show()"
   ]
  },
  {
   "cell_type": "code",
   "execution_count": 16,
   "id": "91a57802",
   "metadata": {},
   "outputs": [
    {
     "data": {
      "image/png": "[encoded data removed]",
      "text/plain": [
       "<Figure size 360x360 with 1 Axes>"
      ]
     },
     "metadata": {
      "needs_background": "light"
     },
     "output_type": "display_data"
    }
   ],
   "source": [
    "sns.lmplot(x=\"review_taste\", y=\"review_overall\", data=df, line_kws={'color': 'red'})\n",
    "plt.show()"
   ]
  },
  {
   "cell_type": "code",
   "execution_count": 17,
   "id": "30af07f0",
   "metadata": {},
   "outputs": [
    {
     "data": {
      "image/png": "[encoded data removed]",
      "text/plain": [
       "<Figure size 360x360 with 1 Axes>"
      ]
     },
     "metadata": {
      "needs_background": "light"
     },
     "output_type": "display_data"
    }
   ],
   "source": [
    "sns.lmplot(x=\"review_appearance\", y=\"review_overall\", data=df, line_kws={'color': 'red'})\n",
    "plt.show()\n",
    "\n",
    "# clean that outlier up"
   ]
  },
  {
   "cell_type": "code",
   "execution_count": 38,
   "id": "911a10d2",
   "metadata": {},
   "outputs": [
    {
     "name": "stdout",
     "output_type": "stream",
     "text": [
      "(888503, 13) (380788, 13) (317323, 13)\n"
     ]
    }
   ],
   "source": [
    "# splitting the data into train, validate, and test\n",
    "train_validate, test = train_test_split(df, test_size=.2, random_state=123)\n",
    "train, validate = train_test_split(train_validate, test_size=.3, random_state=123)\n",
    "print(train.shape, validate.shape, test.shape)"
   ]
  },
  {
   "cell_type": "code",
   "execution_count": 44,
   "id": "0f33f34a",
   "metadata": {},
   "outputs": [],
   "source": [
    "# setting independent/dependent variables in ea. sub-dataset\n",
    "\n",
    "x_train = train.drop(columns=[\"review_overall\"])\n",
    "y_train = train.review_overall\n",
    "\n",
    "x_validate = validate.drop(columns=[\"review_overall\"])\n",
    "y_validate = validate.review_overall\n",
    "\n",
    "x_test = test.drop(columns=[\"review_overall\"])\n",
    "y_test = test.review_overall"
   ]
  },
  {
   "cell_type": "markdown",
   "id": "6bfcd67c",
   "metadata": {},
   "source": [
    "# Write README and plan down. \n",
    "\n",
    "You can use your expertise to determine ABV outliers. \n",
    "Ask for IBU.\n",
    "Ask for geography. If you had the location of the breweries, you'd be able to tell that data.\n",
    "Do the accuracy sensitivity thing.\n",
    "Linear correlation with reivew_overall. What should the brewery focus on?\n",
    "What affects taste? What affects visual appearance?"
   ]
  },
  {
   "cell_type": "markdown",
   "id": "d38fdb60",
   "metadata": {},
   "source": [
    "## Multivariate Exploration"
   ]
  },
  {
   "cell_type": "code",
   "execution_count": null,
   "id": "ce45b54f",
   "metadata": {},
   "outputs": [],
   "source": []
  },
  {
   "cell_type": "markdown",
   "id": "4cae4df3",
   "metadata": {},
   "source": [
    "## Questions to explore:\n",
    "\n",
    "2. Is review_taste score connected to the review_overall score?\n",
    "3. Does beer_abv have any correlation with the overall review score?\n",
    "4. Are review_taste and review_palate the same thing or what?\n",
    "    - Because they look and sound exactly the same.\n",
    "5. Variables \"review_taste\" and \"review_aroma\" why are they so strongly correlated?\n"
   ]
  },
  {
   "cell_type": "markdown",
   "id": "2f6a61c3",
   "metadata": {},
   "source": [
    "#### Question 2. Is review_taste score connected to the review_overall score?\n",
    "\n",
    "Null Hypothesis: review_taste is independent of review_overall.\n",
    "\n",
    "Alternate Hypothesis: review_taste is correlated with review_overall.\n",
    "\n",
    "Alpha =0.01"
   ]
  },
  {
   "cell_type": "code",
   "execution_count": 48,
   "id": "645e369e",
   "metadata": {},
   "outputs": [
    {
     "data": {
      "text/plain": [
       "(0.7899403417771013, 0.0)"
      ]
     },
     "execution_count": 48,
     "metadata": {},
     "output_type": "execute_result"
    }
   ],
   "source": [
    "# Calculate Pearson Correlation Coefficient for review_taste/review_overall comparison\n",
    "\n",
    "x = x_train.review_taste\n",
    "y = y_train\n",
    "\n",
    "corr, p = stats.pearsonr(x, y)\n",
    "corr, p"
   ]
  },
  {
   "cell_type": "code",
   "execution_count": 52,
   "id": "31decfde",
   "metadata": {},
   "outputs": [
    {
     "name": "stdout",
     "output_type": "stream",
     "text": [
      "Reject Null Hypothesis\n"
     ]
    }
   ],
   "source": [
    "### Decide whether to reject or accept the null hypothesis\n",
    "\n",
    "if p < 0.01:\n",
    "    print('Reject Null Hypothesis')\n",
    "else:\n",
    "    print('Accept Null Hypothesis')"
   ]
  },
  {
   "cell_type": "code",
   "execution_count": 53,
   "id": "7e4f71e4",
   "metadata": {},
   "outputs": [
    {
     "data": {
      "image/png": "[encoded data removed]",
      "text/plain": [
       "<Figure size 1152x504 with 1 Axes>"
      ]
     },
     "metadata": {
      "needs_background": "light"
     },
     "output_type": "display_data"
    }
   ],
   "source": [
    "taste_and_overall = sns.pairplot(train, kind='reg', plot_kws={'line_kws':{'color':'red'}}, x_vars = ['review_taste'],\n",
    "                 y_vars = ['review_overall'])\n",
    "\n",
    "taste_and_overall.fig.set_size_inches(16,7)"
   ]
  },
  {
   "cell_type": "markdown",
   "id": "f647e1fa",
   "metadata": {},
   "source": [
    "#### Question 3:  Does beer_abv have any correlation with the overall review score?\n",
    "\n",
    "exam_spearman = train.drop(columns=['student_id']).corr(method='spearman')\n",
    "exam_spearman"
   ]
  },
  {
   "cell_type": "code",
   "execution_count": 65,
   "id": "83e1c27a",
   "metadata": {},
   "outputs": [
    {
     "data": {
      "text/html": [
       "<div>\n",
       "<style scoped>\n",
       "    .dataframe tbody tr th:only-of-type {\n",
       "        vertical-align: middle;\n",
       "    }\n",
       "\n",
       "    .dataframe tbody tr th {\n",
       "        vertical-align: top;\n",
       "    }\n",
       "\n",
       "    .dataframe thead th {\n",
       "        text-align: right;\n",
       "    }\n",
       "</style>\n",
       "<table border=\"1\" class=\"dataframe\">\n",
       "  <thead>\n",
       "    <tr style=\"text-align: right;\">\n",
       "      <th></th>\n",
       "      <th>review_overall</th>\n",
       "      <th>beer_abv</th>\n",
       "    </tr>\n",
       "  </thead>\n",
       "  <tbody>\n",
       "    <tr>\n",
       "      <th>review_overall</th>\n",
       "      <td>1.00000</td>\n",
       "      <td>0.17392</td>\n",
       "    </tr>\n",
       "    <tr>\n",
       "      <th>beer_abv</th>\n",
       "      <td>0.17392</td>\n",
       "      <td>1.00000</td>\n",
       "    </tr>\n",
       "  </tbody>\n",
       "</table>\n",
       "</div>"
      ],
      "text/plain": [
       "                review_overall  beer_abv\n",
       "review_overall         1.00000   0.17392\n",
       "beer_abv               0.17392   1.00000"
      ]
     },
     "execution_count": 65,
     "metadata": {},
     "output_type": "execute_result"
    }
   ],
   "source": [
    "# Since my variables are not normally distributed, I might choose Spearman instead.\n",
    "\n",
    "beer_spearman = train.drop(columns=['brewery_id', 'brewery_name', 'review_aroma',\n",
    "       'review_appearance', 'beer_style', 'review_palate', 'review_taste',\n",
    "       'beer_name', 'review_time', 'beer_beerid']).corr(method='spearman')\n",
    "beer_spearman"
   ]
  },
  {
   "cell_type": "code",
   "execution_count": 66,
   "id": "97bbda30",
   "metadata": {},
   "outputs": [
    {
     "name": "stdout",
     "output_type": "stream",
     "text": [
      "Correlation Coefficient: nan\n",
      "P-value: nan\n"
     ]
    }
   ],
   "source": []
  },
  {
   "cell_type": "markdown",
   "id": "212da6b9",
   "metadata": {},
   "source": [
    "#### Question 4.\n",
    "\n",
    "Are review_taste and review_palate the same thing or what?\n",
    "    - Because they look and sound exactly the same. I will want to use spearman's correlation test when testing the linear relationships due to the skew.\n",
    "\n",
    "Null Hypothesis: The mean of review_taste is equal to review_palate.\n",
    "Alternate Hypothesis: The mean of review_taste is significantly different than review_palate.\n",
    "\n",
    "\n"
   ]
  },
  {
   "cell_type": "code",
   "execution_count": 73,
   "id": "dba7045d",
   "metadata": {},
   "outputs": [
    {
     "name": "stdout",
     "output_type": "stream",
     "text": [
      "0.5356833630041596\n",
      "0.4664890660132477\n"
     ]
    }
   ],
   "source": [
    "print(train.review_taste.var())\n",
    "print(train.review_palate.var())\n",
    "alpha = .05\n"
   ]
  },
  {
   "cell_type": "code",
   "execution_count": 77,
   "id": "910fd3a6",
   "metadata": {},
   "outputs": [
    {
     "data": {
      "text/plain": [
       "(46.15114694936878, 0.0)"
      ]
     },
     "execution_count": 77,
     "metadata": {},
     "output_type": "execute_result"
    }
   ],
   "source": [
    "t, p = stats.ttest_ind(train.review_taste, train.review_palate, equal_var=True)\n",
    "t, p / 2"
   ]
  },
  {
   "cell_type": "code",
   "execution_count": 75,
   "id": "b0833ae1",
   "metadata": {},
   "outputs": [
    {
     "name": "stdout",
     "output_type": "stream",
     "text": [
      "is p/2 < alpha?  True\n",
      "is t > 0?  True\n",
      "We reject $H_{0}$\n"
     ]
    }
   ],
   "source": [
    "print(\"is p/2 < alpha? \", p / 2 < alpha)\n",
    "print(\"is t > 0? \", t > 0)\n",
    "\n",
    "if p / 2 > alpha:\n",
    "    print(\"We fail to reject $H_{0}$\")\n",
    "elif t < 0:\n",
    "    print(\"We fail to reject $H_{0}$\")\n",
    "else:\n",
    "    print(\"We reject $H_{0}$\")\n"
   ]
  },
  {
   "cell_type": "code",
   "execution_count": 54,
   "id": "8501ea1f",
   "metadata": {},
   "outputs": [
    {
     "data": {
      "text/plain": [
       "3.8152803085639553"
      ]
     },
     "execution_count": 54,
     "metadata": {},
     "output_type": "execute_result"
    }
   ],
   "source": [
    "# let's generate an average baseline prediction\n",
    "\n",
    "baseline_prediction = train[\"review_overall\"].mean()\n",
    "baseline_prediction"
   ]
  },
  {
   "cell_type": "code",
   "execution_count": null,
   "id": "68daca8f",
   "metadata": {},
   "outputs": [],
   "source": []
  },
  {
   "cell_type": "code",
   "execution_count": 60,
   "id": "6433c654",
   "metadata": {},
   "outputs": [
    {
     "data": {
      "image/png": "[encoded data removed]",
      "text/plain": [
       "<Figure size 360x360 with 3 Axes>"
      ]
     },
     "metadata": {},
     "output_type": "display_data"
    }
   ],
   "source": [
    "sns.jointplot(x=\"review_taste\", y=\"review_overall\", data=train,  kind='reg', height=5)\n",
    "plt.show()"
   ]
  },
  {
   "cell_type": "markdown",
   "id": "6301a38c",
   "metadata": {},
   "source": [
    "# Modeling"
   ]
  },
  {
   "cell_type": "code",
   "execution_count": null,
   "id": "56f6353d",
   "metadata": {},
   "outputs": [],
   "source": []
  }
 ],
 "metadata": {
  "kernelspec": {
   "display_name": "Python 3 (ipykernel)",
   "language": "python",
   "name": "python3"
  },
  "language_info": {
   "codemirror_mode": {
    "name": "ipython",
    "version": 3
   },
   "file_extension": ".py",
   "mimetype": "text/x-python",
   "name": "python",
   "nbconvert_exporter": "python",
   "pygments_lexer": "ipython3",
   "version": "3.9.12"
  }
 },
 "nbformat": 4,
 "nbformat_minor": 5
}
